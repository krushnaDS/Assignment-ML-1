{
 "cells": [
  {
   "cell_type": "code",
   "execution_count": 1,
   "id": "961dd446",
   "metadata": {},
   "outputs": [
    {
     "data": {
      "text/plain": [
       "'Q1. EXplain the following with example\\na) Artificial Intelligence\\nb) Machine Learning\\nc) Deep Learning\\n\\n\\nArtificial Intelligence (AI)\\nAI is the ability of machines to think and learn like humans.\\n\\nExample: A self-driving car uses AI to navigate the road and avoid obstacles.\\n\\n\\nMachine Learning (ML)\\nML is a subset of AI that allows machines to learn from data without being explicitly programmed.\\n\\nExample: A spam filter uses ML to learn which emails are spam and which are not.\\n\\n\\nDeep Learning (DL)\\nDL is a type of ML that uses artificial neural networks to learn from data. Neural networks are inspired by the structure of the human brain.\\n\\nExample: A facial recognition system uses DL to identify people in images.'"
      ]
     },
     "execution_count": 1,
     "metadata": {},
     "output_type": "execute_result"
    }
   ],
   "source": [
    "'''Q1. EXplain the following with example\n",
    "a) Artificial Intelligence\n",
    "b) Machine Learning\n",
    "c) Deep Learning\n",
    "\n",
    "\n",
    "Artificial Intelligence (AI)\n",
    "AI is the ability of machines to think and learn like humans.\n",
    "\n",
    "Example: A self-driving car uses AI to navigate the road and avoid obstacles.\n",
    "\n",
    "\n",
    "Machine Learning (ML)\n",
    "ML is a subset of AI that allows machines to learn from data without being explicitly programmed.\n",
    "\n",
    "Example: A spam filter uses ML to learn which emails are spam and which are not.\n",
    "\n",
    "\n",
    "Deep Learning (DL)\n",
    "DL is a type of ML that uses artificial neural networks to learn from data. Neural networks are inspired by the structure of the human brain.\n",
    "\n",
    "Example: A facial recognition system uses DL to identify people in images.'''\n"
   ]
  },
  {
   "cell_type": "code",
   "execution_count": 2,
   "id": "d3ce1b86",
   "metadata": {},
   "outputs": [
    {
     "data": {
      "text/plain": [
       "'Q2- What is supervised learning? List some examples of supervised learning.\\n\\nHere the algorithm learns from a training dataset and makes predictions that are\\ncompared with the actual output values. If the predictions are not correct,\\nthen the algorithm is modified until it is satisfactory.\\n\\neg. spam filtering, image classification , Recommendation System\\n'"
      ]
     },
     "execution_count": 2,
     "metadata": {},
     "output_type": "execute_result"
    }
   ],
   "source": [
    "'''Q2- What is supervised learning? List some examples of supervised learning.\n",
    "\n",
    "Here the algorithm learns from a training dataset and makes predictions that are\n",
    "compared with the actual output values. If the predictions are not correct,\n",
    "then the algorithm is modified until it is satisfactory.\n",
    "\n",
    "eg. spam filtering, image classification , Recommendation System\n",
    "'''"
   ]
  },
  {
   "cell_type": "code",
   "execution_count": 3,
   "id": "f0e495c0",
   "metadata": {},
   "outputs": [
    {
     "data": {
      "text/plain": [
       "'Q2- What is unsupervised learning? List some examples of unsupervised learning.\\n\\nThe goal of an unsupervised ml algorithm is to create a model that takes feature vactor \\nx as input and either transforms it into a value that can be used to solve a practical \\nproblem.\\n\\neg. cluster segmentation ,  Recommendation System , Anamoly detection , medical diagnosis\\n'"
      ]
     },
     "execution_count": 3,
     "metadata": {},
     "output_type": "execute_result"
    }
   ],
   "source": [
    "'''Q3- What is unsupervised learning? List some examples of unsupervised learning.\n",
    "\n",
    "The goal of an unsupervised ml algorithm is to create a model that takes feature vactor \n",
    "x as input and either transforms it into a value that can be used to solve a practical \n",
    "problem.\n",
    "\n",
    "eg. cluster segmentation ,  Recommendation System , Anamoly detection , medical diagnosis\n",
    "'''"
   ]
  },
  {
   "cell_type": "code",
   "execution_count": 4,
   "id": "f688f4a0",
   "metadata": {},
   "outputs": [
    {
     "data": {
      "text/plain": [
       "'Q4. What is the difference between AI,ML,DL and DS\\n\\n\\n\\nArtificial intelligence (AI), machine learning (ML), deep learning (DL), and data science (DS) \\nare all related fields, but they have different focuses and capabilities.\\n\\n1. AI is a broad field that encompasses any system that can exhibit intelligent behavior.\\n   This can include tasks such as learning from data, making decisions, and solving problems.\\n\\n2. ML is a subset of AI that focuses on developing systems that can learn from data without\\n   being explicitly programmed. ML algorithms are able to identify patterns in data and use\\n   those patterns to make predictions or decisions.\\n\\n3. DL is a type of ML that uses artificial neural networks to learn from data. Neural networks\\n   are inspired by the structure of the human brain and are able to learn complex patterns in data.\\n\\n4. DS is a field that combines statistics, mathematics, computer science, and domain knowledge \\n   to extract insights from data. DS practitioners use a variety of tools and techniques to collect,\\n   clean, analyze, and visualize data.'"
      ]
     },
     "execution_count": 4,
     "metadata": {},
     "output_type": "execute_result"
    }
   ],
   "source": [
    "'''Q4. What is the difference between AI,ML,DL and DS\n",
    "\n",
    "\n",
    "\n",
    "Artificial intelligence (AI), machine learning (ML), deep learning (DL), and data science (DS) \n",
    "are all related fields, but they have different focuses and capabilities.\n",
    "\n",
    "1. AI is a broad field that encompasses any system that can exhibit intelligent behavior.\n",
    "   This can include tasks such as learning from data, making decisions, and solving problems.\n",
    "\n",
    "2. ML is a subset of AI that focuses on developing systems that can learn from data without\n",
    "   being explicitly programmed. ML algorithms are able to identify patterns in data and use\n",
    "   those patterns to make predictions or decisions.\n",
    "\n",
    "3. DL is a type of ML that uses artificial neural networks to learn from data. Neural networks\n",
    "   are inspired by the structure of the human brain and are able to learn complex patterns in data.\n",
    "\n",
    "4. DS is a field that combines statistics, mathematics, computer science, and domain knowledge \n",
    "   to extract insights from data. DS practitioners use a variety of tools and techniques to collect,\n",
    "   clean, analyze, and visualize data.'''"
   ]
  },
  {
   "cell_type": "code",
   "execution_count": 5,
   "id": "1559dd0c",
   "metadata": {},
   "outputs": [
    {
     "data": {
      "text/plain": [
       "'Q5 What are the main differences between supervised, unsupervised and semi supervised learning.\\n\\n1. Supervised learning uses labeled data, meaning that each data point has a known output value.\\n    For example, a supervised learning algorithm could be trained to classify images of cats and \\n    dogs by feeding it a set of labeled images.\\n\\n2. Unsupervised learning uses unlabeled data, meaning that the output values for the data points \\n    are unknown. For example, an unsupervised learning algorithm could be used to cluster customers\\n    into different segments based on their purchase history, even if the customer segments are not known in advance.\\n\\n3. Semi-supervised learning uses a mixture of labeled and unlabeled data. This type of learning is \\n    often used when it is difficult or expensive to label all of the data. \\n    For example, a semi-supervised learning algorithm could be used to train a spam \\n    filter by feeding it a small set of labeled emails and a large set of unlabeled emails.'"
      ]
     },
     "execution_count": 5,
     "metadata": {},
     "output_type": "execute_result"
    }
   ],
   "source": [
    "'''Q5 What are the main differences between supervised, unsupervised and semi supervised learning.\n",
    "\n",
    "1. Supervised learning uses labeled data, meaning that each data point has a known output value.\n",
    "    For example, a supervised learning algorithm could be trained to classify images of cats and \n",
    "    dogs by feeding it a set of labeled images.\n",
    "\n",
    "2. Unsupervised learning uses unlabeled data, meaning that the output values for the data points \n",
    "    are unknown. For example, an unsupervised learning algorithm could be used to cluster customers\n",
    "    into different segments based on their purchase history, even if the customer segments are not known in advance.\n",
    "\n",
    "3. Semi-supervised learning uses a mixture of labeled and unlabeled data. This type of learning is \n",
    "    often used when it is difficult or expensive to label all of the data. \n",
    "    For example, a semi-supervised learning algorithm could be used to train a spam \n",
    "    filter by feeding it a small set of labeled emails and a large set of unlabeled emails.'''"
   ]
  },
  {
   "cell_type": "code",
   "execution_count": 6,
   "id": "202f6377",
   "metadata": {},
   "outputs": [
    {
     "data": {
      "text/plain": [
       "'Q6- What is train, test and validation split? Explain the importance of each term.\\n\\nTrain-test-validation split is a common technique used in machine learning to evaluate \\nthe performance of a model. It involves splitting the dataset into three parts:\\n\\n1. Training set: This set is used to train the model. The model learns from the data in \\n   this set and develops its ability to make predictions.\\n2. Validation set: This set is used to evaluate the performance of the model on data that\\n   it has not seen before. This helps to prevent overfitting, which is when a model learns\\n   the training data too well and is unable to generalize to new data.\\n3. Test set: This set is used to evaluate the final performance of the model on data that \\n   it has never seen before. This gives an unbiased estimate of how well the model will \\n   perform on real-world data.\\n'"
      ]
     },
     "execution_count": 6,
     "metadata": {},
     "output_type": "execute_result"
    }
   ],
   "source": [
    "'''Q6- What is train, test and validation split? Explain the importance of each term.\n",
    "\n",
    "Train-test-validation split is a common technique used in machine learning to evaluate \n",
    "the performance of a model. It involves splitting the dataset into three parts:\n",
    "\n",
    "1. Training set: This set is used to train the model. The model learns from the data in \n",
    "   this set and develops its ability to make predictions.\n",
    "2. Validation set: This set is used to evaluate the performance of the model on data that\n",
    "   it has not seen before. This helps to prevent overfitting, which is when a model learns\n",
    "   the training data too well and is unable to generalize to new data.\n",
    "3. Test set: This set is used to evaluate the final performance of the model on data that \n",
    "   it has never seen before. This gives an unbiased estimate of how well the model will \n",
    "   perform on real-world data.\n",
    "'''"
   ]
  },
  {
   "cell_type": "code",
   "execution_count": 7,
   "id": "8669a806",
   "metadata": {},
   "outputs": [
    {
     "data": {
      "text/plain": [
       "'Q7- How can unsupervised learning be used in anomaly detection?\\n\\nUnsupervised learning can be used in anomaly detection by training a model to learn \\nthe distribution of normal data and then identifying data points that fall outside of\\nthat distribution. This is known as model-based anomaly detection.\\n\\nThere are a number of different unsupervised learning algorithms that can be used for anomaly detection, including:\\n\\n1. Clustering: Clustering algorithms group data points into clusters based on their similarity.\\n   Data points that are not assigned to any cluster can be flagged as anomalies.\\n   \\n2. Nearest neighbors: Nearest neighbor algorithms identify anomalies by finding data points that \\n   are very different from their nearest neighbors.\\n   \\n3. Isolation forests: Isolation forests work by randomly isolating data points from the rest of the \\n   dataset. Data points that are isolated quickly are more likely to be anomalies.\\n   \\n4. Autoencoders: Autoencoders are neural networks that are trained to reconstruct input data.\\n   Data points with high reconstruction errors can be flagged as anomalies.\\n'"
      ]
     },
     "execution_count": 7,
     "metadata": {},
     "output_type": "execute_result"
    }
   ],
   "source": [
    "'''Q7- How can unsupervised learning be used in anomaly detection?\n",
    "\n",
    "Unsupervised learning can be used in anomaly detection by training a model to learn \n",
    "the distribution of normal data and then identifying data points that fall outside of\n",
    "that distribution. This is known as model-based anomaly detection.\n",
    "\n",
    "There are a number of different unsupervised learning algorithms that can be used for anomaly detection, including:\n",
    "\n",
    "1. Clustering: Clustering algorithms group data points into clusters based on their similarity.\n",
    "   Data points that are not assigned to any cluster can be flagged as anomalies.\n",
    "   \n",
    "2. Nearest neighbors: Nearest neighbor algorithms identify anomalies by finding data points that \n",
    "   are very different from their nearest neighbors.\n",
    "   \n",
    "3. Isolation forests: Isolation forests work by randomly isolating data points from the rest of the \n",
    "   dataset. Data points that are isolated quickly are more likely to be anomalies.\n",
    "   \n",
    "4. Autoencoders: Autoencoders are neural networks that are trained to reconstruct input data.\n",
    "   Data points with high reconstruction errors can be flagged as anomalies.\n",
    "'''"
   ]
  },
  {
   "cell_type": "code",
   "execution_count": null,
   "id": "bec4e6a1",
   "metadata": {},
   "outputs": [],
   "source": [
    "'''Q8- List down some commonly used supervised learning algorithms and unsupervised learning\n",
    "algorithms.\n",
    "\n",
    "Commonly used supervised learning algorithms:\n",
    "\n",
    "1. Linear regression\n",
    "2. Logistic regression\n",
    "3. Decision trees\n",
    "4. Random forests\n",
    "5. Support vector machines (SVMs)\n",
    "6. Gradient boosted trees\n",
    "\n",
    "\n",
    "Commonly used unsupervised learning algorithms:\n",
    "\n",
    "1. K-means clustering\n",
    "2. Hierarchical clustering\n",
    "3. DBSCAN\n",
    "4. Gaussian mixture models (GMMs)\n",
    "5. Hidden Markov models (HMMs)\n",
    "6. Principal component analysis (PCA)\n",
    "7. t-distributed stochastic neighbor embedding (t-SNE)\n",
    "'''"
   ]
  }
 ],
 "metadata": {
  "kernelspec": {
   "display_name": "Python 3 (ipykernel)",
   "language": "python",
   "name": "python3"
  },
  "language_info": {
   "codemirror_mode": {
    "name": "ipython",
    "version": 3
   },
   "file_extension": ".py",
   "mimetype": "text/x-python",
   "name": "python",
   "nbconvert_exporter": "python",
   "pygments_lexer": "ipython3",
   "version": "3.10.9"
  }
 },
 "nbformat": 4,
 "nbformat_minor": 5
}
